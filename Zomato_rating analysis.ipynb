{
 "cells": [
  {
   "cell_type": "markdown",
   "metadata": {},
   "source": [
    "# **Zomato_analysis**\n",
    "We will develop a predictor model to find out the popularity and success a new restaurant can generate with an extensive study. This study aims to offer huge insights on which factors determine the success of a new restaurant and predict ratings for newer restaurants"
   ]
  },
  {
   "cell_type": "markdown",
   "metadata": {},
   "source": [
    "The given dataset contains data about all the Zomato orders particularly in Bangalore Restuarants. "
   ]
  },
  {
   "cell_type": "code",
   "execution_count": 1,
   "metadata": {
    "_cell_guid": "b1076dfc-b9ad-4769-8c92-a6c4dae69d19",
    "_uuid": "8f2839f25d086af736a60e9eeb907d3b93b6e0e5",
    "execution": {
     "iopub.execute_input": "2021-12-16T15:55:50.062934Z",
     "iopub.status.busy": "2021-12-16T15:55:50.062468Z",
     "iopub.status.idle": "2021-12-16T15:55:51.336187Z",
     "shell.execute_reply": "2021-12-16T15:55:51.335488Z",
     "shell.execute_reply.started": "2021-12-16T15:55:50.062835Z"
    }
   },
   "outputs": [],
   "source": [
    "#Importing Libraries\n",
    "import numpy as np \n",
    "import pandas as pd \n",
    "import matplotlib.pyplot as plt \n",
    "import seaborn as sns \n",
    "from sklearn.linear_model import LogisticRegression \n",
    "from sklearn.linear_model import LinearRegression \n",
    "from sklearn.model_selection import train_test_split \n",
    "from sklearn.metrics import classification_report \n",
    "from sklearn.metrics import confusion_matrix\n",
    "from sklearn.metrics import r2_score"
   ]
  },
  {
   "cell_type": "code",
   "execution_count": 2,
   "metadata": {
    "execution": {
     "iopub.execute_input": "2021-12-16T15:55:51.338928Z",
     "iopub.status.busy": "2021-12-16T15:55:51.338377Z",
     "iopub.status.idle": "2021-12-16T15:56:04.024011Z",
     "shell.execute_reply": "2021-12-16T15:56:04.023253Z",
     "shell.execute_reply.started": "2021-12-16T15:55:51.338897Z"
    }
   },
   "outputs": [
    {
     "data": {
      "text/html": [
       "<div>\n",
       "<style scoped>\n",
       "    .dataframe tbody tr th:only-of-type {\n",
       "        vertical-align: middle;\n",
       "    }\n",
       "\n",
       "    .dataframe tbody tr th {\n",
       "        vertical-align: top;\n",
       "    }\n",
       "\n",
       "    .dataframe thead th {\n",
       "        text-align: right;\n",
       "    }\n",
       "</style>\n",
       "<table border=\"1\" class=\"dataframe\">\n",
       "  <thead>\n",
       "    <tr style=\"text-align: right;\">\n",
       "      <th></th>\n",
       "      <th>url</th>\n",
       "      <th>address</th>\n",
       "      <th>name</th>\n",
       "      <th>online_order</th>\n",
       "      <th>book_table</th>\n",
       "      <th>rate</th>\n",
       "      <th>votes</th>\n",
       "      <th>phone</th>\n",
       "      <th>location</th>\n",
       "      <th>rest_type</th>\n",
       "      <th>dish_liked</th>\n",
       "      <th>cuisines</th>\n",
       "      <th>approx_cost(for two people)</th>\n",
       "      <th>reviews_list</th>\n",
       "      <th>menu_item</th>\n",
       "      <th>listed_in(type)</th>\n",
       "      <th>listed_in(city)</th>\n",
       "    </tr>\n",
       "  </thead>\n",
       "  <tbody>\n",
       "    <tr>\n",
       "      <th>0</th>\n",
       "      <td>https://www.zomato.com/bangalore/jalsa-banasha...</td>\n",
       "      <td>942, 21st Main Road, 2nd Stage, Banashankari, ...</td>\n",
       "      <td>Jalsa</td>\n",
       "      <td>Yes</td>\n",
       "      <td>Yes</td>\n",
       "      <td>4.1/5</td>\n",
       "      <td>775</td>\n",
       "      <td>080 42297555\\r\\n+91 9743772233</td>\n",
       "      <td>Banashankari</td>\n",
       "      <td>Casual Dining</td>\n",
       "      <td>Pasta, Lunch Buffet, Masala Papad, Paneer Laja...</td>\n",
       "      <td>North Indian, Mughlai, Chinese</td>\n",
       "      <td>800</td>\n",
       "      <td>[('Rated 4.0', 'RATED\\n  A beautiful place to ...</td>\n",
       "      <td>[]</td>\n",
       "      <td>Buffet</td>\n",
       "      <td>Banashankari</td>\n",
       "    </tr>\n",
       "    <tr>\n",
       "      <th>1</th>\n",
       "      <td>https://www.zomato.com/bangalore/spice-elephan...</td>\n",
       "      <td>2nd Floor, 80 Feet Road, Near Big Bazaar, 6th ...</td>\n",
       "      <td>Spice Elephant</td>\n",
       "      <td>Yes</td>\n",
       "      <td>No</td>\n",
       "      <td>4.1/5</td>\n",
       "      <td>787</td>\n",
       "      <td>080 41714161</td>\n",
       "      <td>Banashankari</td>\n",
       "      <td>Casual Dining</td>\n",
       "      <td>Momos, Lunch Buffet, Chocolate Nirvana, Thai G...</td>\n",
       "      <td>Chinese, North Indian, Thai</td>\n",
       "      <td>800</td>\n",
       "      <td>[('Rated 4.0', 'RATED\\n  Had been here for din...</td>\n",
       "      <td>[]</td>\n",
       "      <td>Buffet</td>\n",
       "      <td>Banashankari</td>\n",
       "    </tr>\n",
       "    <tr>\n",
       "      <th>2</th>\n",
       "      <td>https://www.zomato.com/SanchurroBangalore?cont...</td>\n",
       "      <td>1112, Next to KIMS Medical College, 17th Cross...</td>\n",
       "      <td>San Churro Cafe</td>\n",
       "      <td>Yes</td>\n",
       "      <td>No</td>\n",
       "      <td>3.8/5</td>\n",
       "      <td>918</td>\n",
       "      <td>+91 9663487993</td>\n",
       "      <td>Banashankari</td>\n",
       "      <td>Cafe, Casual Dining</td>\n",
       "      <td>Churros, Cannelloni, Minestrone Soup, Hot Choc...</td>\n",
       "      <td>Cafe, Mexican, Italian</td>\n",
       "      <td>800</td>\n",
       "      <td>[('Rated 3.0', \"RATED\\n  Ambience is not that ...</td>\n",
       "      <td>[]</td>\n",
       "      <td>Buffet</td>\n",
       "      <td>Banashankari</td>\n",
       "    </tr>\n",
       "    <tr>\n",
       "      <th>3</th>\n",
       "      <td>https://www.zomato.com/bangalore/addhuri-udupi...</td>\n",
       "      <td>1st Floor, Annakuteera, 3rd Stage, Banashankar...</td>\n",
       "      <td>Addhuri Udupi Bhojana</td>\n",
       "      <td>No</td>\n",
       "      <td>No</td>\n",
       "      <td>3.7/5</td>\n",
       "      <td>88</td>\n",
       "      <td>+91 9620009302</td>\n",
       "      <td>Banashankari</td>\n",
       "      <td>Quick Bites</td>\n",
       "      <td>Masala Dosa</td>\n",
       "      <td>South Indian, North Indian</td>\n",
       "      <td>300</td>\n",
       "      <td>[('Rated 4.0', \"RATED\\n  Great food and proper...</td>\n",
       "      <td>[]</td>\n",
       "      <td>Buffet</td>\n",
       "      <td>Banashankari</td>\n",
       "    </tr>\n",
       "    <tr>\n",
       "      <th>4</th>\n",
       "      <td>https://www.zomato.com/bangalore/grand-village...</td>\n",
       "      <td>10, 3rd Floor, Lakshmi Associates, Gandhi Baza...</td>\n",
       "      <td>Grand Village</td>\n",
       "      <td>No</td>\n",
       "      <td>No</td>\n",
       "      <td>3.8/5</td>\n",
       "      <td>166</td>\n",
       "      <td>+91 8026612447\\r\\n+91 9901210005</td>\n",
       "      <td>Basavanagudi</td>\n",
       "      <td>Casual Dining</td>\n",
       "      <td>Panipuri, Gol Gappe</td>\n",
       "      <td>North Indian, Rajasthani</td>\n",
       "      <td>600</td>\n",
       "      <td>[('Rated 4.0', 'RATED\\n  Very good restaurant ...</td>\n",
       "      <td>[]</td>\n",
       "      <td>Buffet</td>\n",
       "      <td>Banashankari</td>\n",
       "    </tr>\n",
       "  </tbody>\n",
       "</table>\n",
       "</div>"
      ],
      "text/plain": [
       "                                                 url  \\\n",
       "0  https://www.zomato.com/bangalore/jalsa-banasha...   \n",
       "1  https://www.zomato.com/bangalore/spice-elephan...   \n",
       "2  https://www.zomato.com/SanchurroBangalore?cont...   \n",
       "3  https://www.zomato.com/bangalore/addhuri-udupi...   \n",
       "4  https://www.zomato.com/bangalore/grand-village...   \n",
       "\n",
       "                                             address                   name  \\\n",
       "0  942, 21st Main Road, 2nd Stage, Banashankari, ...                  Jalsa   \n",
       "1  2nd Floor, 80 Feet Road, Near Big Bazaar, 6th ...         Spice Elephant   \n",
       "2  1112, Next to KIMS Medical College, 17th Cross...        San Churro Cafe   \n",
       "3  1st Floor, Annakuteera, 3rd Stage, Banashankar...  Addhuri Udupi Bhojana   \n",
       "4  10, 3rd Floor, Lakshmi Associates, Gandhi Baza...          Grand Village   \n",
       "\n",
       "  online_order book_table   rate  votes                             phone  \\\n",
       "0          Yes        Yes  4.1/5    775    080 42297555\\r\\n+91 9743772233   \n",
       "1          Yes         No  4.1/5    787                      080 41714161   \n",
       "2          Yes         No  3.8/5    918                    +91 9663487993   \n",
       "3           No         No  3.7/5     88                    +91 9620009302   \n",
       "4           No         No  3.8/5    166  +91 8026612447\\r\\n+91 9901210005   \n",
       "\n",
       "       location            rest_type  \\\n",
       "0  Banashankari        Casual Dining   \n",
       "1  Banashankari        Casual Dining   \n",
       "2  Banashankari  Cafe, Casual Dining   \n",
       "3  Banashankari          Quick Bites   \n",
       "4  Basavanagudi        Casual Dining   \n",
       "\n",
       "                                          dish_liked  \\\n",
       "0  Pasta, Lunch Buffet, Masala Papad, Paneer Laja...   \n",
       "1  Momos, Lunch Buffet, Chocolate Nirvana, Thai G...   \n",
       "2  Churros, Cannelloni, Minestrone Soup, Hot Choc...   \n",
       "3                                        Masala Dosa   \n",
       "4                                Panipuri, Gol Gappe   \n",
       "\n",
       "                         cuisines approx_cost(for two people)  \\\n",
       "0  North Indian, Mughlai, Chinese                         800   \n",
       "1     Chinese, North Indian, Thai                         800   \n",
       "2          Cafe, Mexican, Italian                         800   \n",
       "3      South Indian, North Indian                         300   \n",
       "4        North Indian, Rajasthani                         600   \n",
       "\n",
       "                                        reviews_list menu_item  \\\n",
       "0  [('Rated 4.0', 'RATED\\n  A beautiful place to ...        []   \n",
       "1  [('Rated 4.0', 'RATED\\n  Had been here for din...        []   \n",
       "2  [('Rated 3.0', \"RATED\\n  Ambience is not that ...        []   \n",
       "3  [('Rated 4.0', \"RATED\\n  Great food and proper...        []   \n",
       "4  [('Rated 4.0', 'RATED\\n  Very good restaurant ...        []   \n",
       "\n",
       "  listed_in(type) listed_in(city)  \n",
       "0          Buffet    Banashankari  \n",
       "1          Buffet    Banashankari  \n",
       "2          Buffet    Banashankari  \n",
       "3          Buffet    Banashankari  \n",
       "4          Buffet    Banashankari  "
      ]
     },
     "execution_count": 2,
     "metadata": {},
     "output_type": "execute_result"
    }
   ],
   "source": [
    "df = pd.read_csv('zomato.csv')\n",
    "df.head()"
   ]
  },
  {
   "cell_type": "code",
   "execution_count": 3,
   "metadata": {
    "execution": {
     "iopub.execute_input": "2021-12-16T15:56:04.025772Z",
     "iopub.status.busy": "2021-12-16T15:56:04.025534Z",
     "iopub.status.idle": "2021-12-16T15:56:04.03154Z",
     "shell.execute_reply": "2021-12-16T15:56:04.030697Z",
     "shell.execute_reply.started": "2021-12-16T15:56:04.025748Z"
    }
   },
   "outputs": [
    {
     "data": {
      "text/plain": [
       "(51717, 17)"
      ]
     },
     "execution_count": 3,
     "metadata": {},
     "output_type": "execute_result"
    }
   ],
   "source": [
    "df.shape"
   ]
  },
  {
   "cell_type": "code",
   "execution_count": 4,
   "metadata": {},
   "outputs": [
    {
     "data": {
      "text/plain": [
       "Index(['url', 'address', 'name', 'online_order', 'book_table', 'rate', 'votes',\n",
       "       'phone', 'location', 'rest_type', 'dish_liked', 'cuisines',\n",
       "       'approx_cost(for two people)', 'reviews_list', 'menu_item',\n",
       "       'listed_in(type)', 'listed_in(city)'],\n",
       "      dtype='object')"
      ]
     },
     "execution_count": 4,
     "metadata": {},
     "output_type": "execute_result"
    }
   ],
   "source": [
    "df.columns"
   ]
  },
  {
   "cell_type": "markdown",
   "metadata": {},
   "source": [
    "# **EDA and Cleaning**"
   ]
  },
  {
   "cell_type": "code",
   "execution_count": 5,
   "metadata": {
    "execution": {
     "iopub.execute_input": "2021-12-16T15:56:04.033794Z",
     "iopub.status.busy": "2021-12-16T15:56:04.033522Z",
     "iopub.status.idle": "2021-12-16T15:56:04.103466Z",
     "shell.execute_reply": "2021-12-16T15:56:04.102884Z",
     "shell.execute_reply.started": "2021-12-16T15:56:04.033668Z"
    }
   },
   "outputs": [
    {
     "name": "stdout",
     "output_type": "stream",
     "text": [
      "<class 'pandas.core.frame.DataFrame'>\n",
      "RangeIndex: 51717 entries, 0 to 51716\n",
      "Data columns (total 17 columns):\n",
      " #   Column                       Non-Null Count  Dtype \n",
      "---  ------                       --------------  ----- \n",
      " 0   url                          51717 non-null  object\n",
      " 1   address                      51717 non-null  object\n",
      " 2   name                         51717 non-null  object\n",
      " 3   online_order                 51717 non-null  object\n",
      " 4   book_table                   51717 non-null  object\n",
      " 5   rate                         43942 non-null  object\n",
      " 6   votes                        51717 non-null  int64 \n",
      " 7   phone                        50509 non-null  object\n",
      " 8   location                     51696 non-null  object\n",
      " 9   rest_type                    51490 non-null  object\n",
      " 10  dish_liked                   23639 non-null  object\n",
      " 11  cuisines                     51672 non-null  object\n",
      " 12  approx_cost(for two people)  51371 non-null  object\n",
      " 13  reviews_list                 51717 non-null  object\n",
      " 14  menu_item                    51717 non-null  object\n",
      " 15  listed_in(type)              51717 non-null  object\n",
      " 16  listed_in(city)              51717 non-null  object\n",
      "dtypes: int64(1), object(16)\n",
      "memory usage: 6.7+ MB\n"
     ]
    }
   ],
   "source": [
    "df.info()"
   ]
  },
  {
   "cell_type": "code",
   "execution_count": 6,
   "metadata": {
    "execution": {
     "iopub.execute_input": "2021-12-16T15:56:04.10625Z",
     "iopub.status.busy": "2021-12-16T15:56:04.106019Z",
     "iopub.status.idle": "2021-12-16T15:56:04.156592Z",
     "shell.execute_reply": "2021-12-16T15:56:04.155609Z",
     "shell.execute_reply.started": "2021-12-16T15:56:04.106207Z"
    }
   },
   "outputs": [
    {
     "data": {
      "text/plain": [
       "url                                0\n",
       "address                            0\n",
       "name                               0\n",
       "online_order                       0\n",
       "book_table                         0\n",
       "rate                            7775\n",
       "votes                              0\n",
       "phone                           1208\n",
       "location                          21\n",
       "rest_type                        227\n",
       "dish_liked                     28078\n",
       "cuisines                          45\n",
       "approx_cost(for two people)      346\n",
       "reviews_list                       0\n",
       "menu_item                          0\n",
       "listed_in(type)                    0\n",
       "listed_in(city)                    0\n",
       "dtype: int64"
      ]
     },
     "execution_count": 6,
     "metadata": {},
     "output_type": "execute_result"
    }
   ],
   "source": [
    "df.isna().sum()"
   ]
  },
  {
   "cell_type": "code",
   "execution_count": 7,
   "metadata": {
    "execution": {
     "iopub.execute_input": "2021-12-16T15:56:04.157901Z",
     "iopub.status.busy": "2021-12-16T15:56:04.157694Z",
     "iopub.status.idle": "2021-12-16T15:56:04.171609Z",
     "shell.execute_reply": "2021-12-16T15:56:04.17057Z",
     "shell.execute_reply.started": "2021-12-16T15:56:04.157871Z"
    }
   },
   "outputs": [],
   "source": [
    "#dropping irrelevant columns\n",
    "df1=df.drop(['url','address','phone','dish_liked', 'menu_item', 'reviews_list'],axis=1) "
   ]
  },
  {
   "cell_type": "code",
   "execution_count": 8,
   "metadata": {
    "execution": {
     "iopub.execute_input": "2021-12-16T15:56:04.172982Z",
     "iopub.status.busy": "2021-12-16T15:56:04.172776Z",
     "iopub.status.idle": "2021-12-16T15:56:04.313244Z",
     "shell.execute_reply": "2021-12-16T15:56:04.312078Z",
     "shell.execute_reply.started": "2021-12-16T15:56:04.172955Z"
    }
   },
   "outputs": [],
   "source": [
    "#Removing the Duplicates\n",
    "df1.duplicated().sum()\n",
    "df1.drop_duplicates(inplace=True)"
   ]
  },
  {
   "cell_type": "code",
   "execution_count": 9,
   "metadata": {
    "execution": {
     "iopub.execute_input": "2021-12-16T15:56:04.314962Z",
     "iopub.status.busy": "2021-12-16T15:56:04.314766Z",
     "iopub.status.idle": "2021-12-16T15:56:04.421167Z",
     "shell.execute_reply": "2021-12-16T15:56:04.419821Z",
     "shell.execute_reply.started": "2021-12-16T15:56:04.314936Z"
    }
   },
   "outputs": [
    {
     "name": "stdout",
     "output_type": "stream",
     "text": [
      "<class 'pandas.core.frame.DataFrame'>\n",
      "Int64Index: 43447 entries, 0 to 51716\n",
      "Data columns (total 11 columns):\n",
      " #   Column                       Non-Null Count  Dtype \n",
      "---  ------                       --------------  ----- \n",
      " 0   name                         43447 non-null  object\n",
      " 1   online_order                 43447 non-null  object\n",
      " 2   book_table                   43447 non-null  object\n",
      " 3   rate                         43447 non-null  object\n",
      " 4   votes                        43447 non-null  int64 \n",
      " 5   location                     43447 non-null  object\n",
      " 6   rest_type                    43447 non-null  object\n",
      " 7   cuisines                     43447 non-null  object\n",
      " 8   approx_cost(for two people)  43447 non-null  object\n",
      " 9   listed_in(type)              43447 non-null  object\n",
      " 10  listed_in(city)              43447 non-null  object\n",
      "dtypes: int64(1), object(10)\n",
      "memory usage: 4.0+ MB\n"
     ]
    }
   ],
   "source": [
    "#Remove the NaN values from the dataset\n",
    "df1.isnull().sum()\n",
    "df1.dropna(how='any',inplace=True)\n",
    "df1.info()"
   ]
  },
  {
   "cell_type": "code",
   "execution_count": 10,
   "metadata": {},
   "outputs": [
    {
     "data": {
      "text/plain": [
       "name                           0\n",
       "online_order                   0\n",
       "book_table                     0\n",
       "rate                           0\n",
       "votes                          0\n",
       "location                       0\n",
       "rest_type                      0\n",
       "cuisines                       0\n",
       "approx_cost(for two people)    0\n",
       "listed_in(type)                0\n",
       "listed_in(city)                0\n",
       "dtype: int64"
      ]
     },
     "execution_count": 10,
     "metadata": {},
     "output_type": "execute_result"
    }
   ],
   "source": [
    "df1.isna().sum()"
   ]
  },
  {
   "cell_type": "markdown",
   "metadata": {},
   "source": [
    "All the null values present are successfully removed.\n"
   ]
  },
  {
   "cell_type": "code",
   "execution_count": 11,
   "metadata": {
    "execution": {
     "iopub.execute_input": "2021-12-16T15:56:04.422747Z",
     "iopub.status.busy": "2021-12-16T15:56:04.422485Z",
     "iopub.status.idle": "2021-12-16T15:56:04.439476Z",
     "shell.execute_reply": "2021-12-16T15:56:04.438404Z",
     "shell.execute_reply.started": "2021-12-16T15:56:04.422709Z"
    }
   },
   "outputs": [
    {
     "data": {
      "text/plain": [
       "Index(['name', 'online_order', 'book_table', 'rating', 'votes', 'location',\n",
       "       'rest_type', 'cuisines', 'cost', 'type', 'city'],\n",
       "      dtype='object')"
      ]
     },
     "execution_count": 11,
     "metadata": {},
     "output_type": "execute_result"
    }
   ],
   "source": [
    "#Changing the Columns Names\n",
    "df1.columns\n",
    "df1 = df1.rename(columns={'approx_cost(for two people)':'cost','listed_in(type)':'type',\n",
    "                                  'listed_in(city)':'city', 'rate':'rating'})\n",
    "df1.columns"
   ]
  },
  {
   "cell_type": "code",
   "execution_count": 12,
   "metadata": {
    "execution": {
     "iopub.execute_input": "2021-12-16T15:56:04.442656Z",
     "iopub.status.busy": "2021-12-16T15:56:04.442409Z",
     "iopub.status.idle": "2021-12-16T15:56:04.494064Z",
     "shell.execute_reply": "2021-12-16T15:56:04.493318Z",
     "shell.execute_reply.started": "2021-12-16T15:56:04.442632Z"
    }
   },
   "outputs": [
    {
     "name": "stdout",
     "output_type": "stream",
     "text": [
      "<class 'pandas.core.frame.DataFrame'>\n",
      "Int64Index: 43447 entries, 0 to 51716\n",
      "Data columns (total 11 columns):\n",
      " #   Column        Non-Null Count  Dtype  \n",
      "---  ------        --------------  -----  \n",
      " 0   name          43447 non-null  object \n",
      " 1   online_order  43447 non-null  object \n",
      " 2   book_table    43447 non-null  object \n",
      " 3   rating        43447 non-null  object \n",
      " 4   votes         43447 non-null  int64  \n",
      " 5   location      43447 non-null  object \n",
      " 6   rest_type     43447 non-null  object \n",
      " 7   cuisines      43447 non-null  object \n",
      " 8   cost          43447 non-null  float64\n",
      " 9   type          43447 non-null  object \n",
      " 10  city          43447 non-null  object \n",
      "dtypes: float64(1), int64(1), object(9)\n",
      "memory usage: 4.0+ MB\n"
     ]
    }
   ],
   "source": [
    "#Some Transformations\n",
    "df1['cost'] = df1['cost'].astype(str)\n",
    "df1['cost'] = df1['cost'].apply(lambda x: x.replace(',','.'))\n",
    "df1['cost'] = df1['cost'].astype(float)\n",
    "df1.info()"
   ]
  },
  {
   "cell_type": "code",
   "execution_count": 13,
   "metadata": {
    "execution": {
     "iopub.execute_input": "2021-12-16T15:56:04.495567Z",
     "iopub.status.busy": "2021-12-16T15:56:04.495209Z",
     "iopub.status.idle": "2021-12-16T15:56:04.565024Z",
     "shell.execute_reply": "2021-12-16T15:56:04.564355Z",
     "shell.execute_reply.started": "2021-12-16T15:56:04.495528Z"
    }
   },
   "outputs": [
    {
     "data": {
      "text/plain": [
       "0    4.1\n",
       "1    4.1\n",
       "2    3.8\n",
       "3    3.7\n",
       "4    3.8\n",
       "Name: rating, dtype: float64"
      ]
     },
     "execution_count": 13,
     "metadata": {},
     "output_type": "execute_result"
    }
   ],
   "source": [
    "def handlerate(value):\n",
    "    if(value=='NEW' or value=='-'):\n",
    "        return np.nan\n",
    "    else:\n",
    "        value = str(value).split('/')\n",
    "        value = value[0]\n",
    "        return float(value)\n",
    "    \n",
    "df1['rating'] = df1['rating'].apply(handlerate)\n",
    "df1['rating'].head()"
   ]
  },
  {
   "cell_type": "code",
   "execution_count": 14,
   "metadata": {
    "execution": {
     "iopub.execute_input": "2021-12-16T15:56:04.566147Z",
     "iopub.status.busy": "2021-12-16T15:56:04.566005Z",
     "iopub.status.idle": "2021-12-16T15:56:04.616658Z",
     "shell.execute_reply": "2021-12-16T15:56:04.615748Z",
     "shell.execute_reply.started": "2021-12-16T15:56:04.566127Z"
    }
   },
   "outputs": [
    {
     "data": {
      "text/html": [
       "<div>\n",
       "<style scoped>\n",
       "    .dataframe tbody tr th:only-of-type {\n",
       "        vertical-align: middle;\n",
       "    }\n",
       "\n",
       "    .dataframe tbody tr th {\n",
       "        vertical-align: top;\n",
       "    }\n",
       "\n",
       "    .dataframe thead th {\n",
       "        text-align: right;\n",
       "    }\n",
       "</style>\n",
       "<table border=\"1\" class=\"dataframe\">\n",
       "  <thead>\n",
       "    <tr style=\"text-align: right;\">\n",
       "      <th></th>\n",
       "      <th>name</th>\n",
       "      <th>online_order</th>\n",
       "      <th>book_table</th>\n",
       "      <th>rating</th>\n",
       "      <th>votes</th>\n",
       "      <th>location</th>\n",
       "      <th>rest_type</th>\n",
       "      <th>cuisines</th>\n",
       "      <th>cost</th>\n",
       "      <th>type</th>\n",
       "      <th>city</th>\n",
       "    </tr>\n",
       "  </thead>\n",
       "  <tbody>\n",
       "    <tr>\n",
       "      <th>0</th>\n",
       "      <td>Jalsa</td>\n",
       "      <td>True</td>\n",
       "      <td>True</td>\n",
       "      <td>4.1</td>\n",
       "      <td>775</td>\n",
       "      <td>Banashankari</td>\n",
       "      <td>Casual Dining</td>\n",
       "      <td>North Indian, Mughlai, Chinese</td>\n",
       "      <td>800.0</td>\n",
       "      <td>Buffet</td>\n",
       "      <td>Banashankari</td>\n",
       "    </tr>\n",
       "    <tr>\n",
       "      <th>1</th>\n",
       "      <td>Spice Elephant</td>\n",
       "      <td>True</td>\n",
       "      <td>False</td>\n",
       "      <td>4.1</td>\n",
       "      <td>787</td>\n",
       "      <td>Banashankari</td>\n",
       "      <td>Casual Dining</td>\n",
       "      <td>Chinese, North Indian, Thai</td>\n",
       "      <td>800.0</td>\n",
       "      <td>Buffet</td>\n",
       "      <td>Banashankari</td>\n",
       "    </tr>\n",
       "    <tr>\n",
       "      <th>2</th>\n",
       "      <td>San Churro Cafe</td>\n",
       "      <td>True</td>\n",
       "      <td>False</td>\n",
       "      <td>3.8</td>\n",
       "      <td>918</td>\n",
       "      <td>Banashankari</td>\n",
       "      <td>Cafe, Casual Dining</td>\n",
       "      <td>Cafe, Mexican, Italian</td>\n",
       "      <td>800.0</td>\n",
       "      <td>Buffet</td>\n",
       "      <td>Banashankari</td>\n",
       "    </tr>\n",
       "    <tr>\n",
       "      <th>3</th>\n",
       "      <td>Addhuri Udupi Bhojana</td>\n",
       "      <td>False</td>\n",
       "      <td>False</td>\n",
       "      <td>3.7</td>\n",
       "      <td>88</td>\n",
       "      <td>Banashankari</td>\n",
       "      <td>Quick Bites</td>\n",
       "      <td>South Indian, North Indian</td>\n",
       "      <td>300.0</td>\n",
       "      <td>Buffet</td>\n",
       "      <td>Banashankari</td>\n",
       "    </tr>\n",
       "    <tr>\n",
       "      <th>4</th>\n",
       "      <td>Grand Village</td>\n",
       "      <td>False</td>\n",
       "      <td>False</td>\n",
       "      <td>3.8</td>\n",
       "      <td>166</td>\n",
       "      <td>Basavanagudi</td>\n",
       "      <td>Casual Dining</td>\n",
       "      <td>North Indian, Rajasthani</td>\n",
       "      <td>600.0</td>\n",
       "      <td>Buffet</td>\n",
       "      <td>Banashankari</td>\n",
       "    </tr>\n",
       "  </tbody>\n",
       "</table>\n",
       "</div>"
      ],
      "text/plain": [
       "                    name  online_order  book_table  rating  votes  \\\n",
       "0                  Jalsa          True        True     4.1    775   \n",
       "1         Spice Elephant          True       False     4.1    787   \n",
       "2        San Churro Cafe          True       False     3.8    918   \n",
       "3  Addhuri Udupi Bhojana         False       False     3.7     88   \n",
       "4          Grand Village         False       False     3.8    166   \n",
       "\n",
       "       location            rest_type                        cuisines   cost  \\\n",
       "0  Banashankari        Casual Dining  North Indian, Mughlai, Chinese  800.0   \n",
       "1  Banashankari        Casual Dining     Chinese, North Indian, Thai  800.0   \n",
       "2  Banashankari  Cafe, Casual Dining          Cafe, Mexican, Italian  800.0   \n",
       "3  Banashankari          Quick Bites      South Indian, North Indian  300.0   \n",
       "4  Basavanagudi        Casual Dining        North Indian, Rajasthani  600.0   \n",
       "\n",
       "     type          city  \n",
       "0  Buffet  Banashankari  \n",
       "1  Buffet  Banashankari  \n",
       "2  Buffet  Banashankari  \n",
       "3  Buffet  Banashankari  \n",
       "4  Buffet  Banashankari  "
      ]
     },
     "execution_count": 14,
     "metadata": {},
     "output_type": "execute_result"
    }
   ],
   "source": [
    "# Adjust the column names\n",
    "df1.name = df1.name.apply(lambda x:x.title())\n",
    "df1.online_order.replace(('Yes','No'),(True, False),inplace=True)\n",
    "df1.book_table.replace(('Yes','No'),(True, False),inplace=True)\n",
    "df1.head()"
   ]
  },
  {
   "cell_type": "code",
   "execution_count": 15,
   "metadata": {},
   "outputs": [
    {
     "data": {
      "text/plain": [
       "North Indian                                        2241\n",
       "North Indian, Chinese                               2029\n",
       "South Indian                                        1317\n",
       "Bakery, Desserts                                     642\n",
       "Biryani                                              632\n",
       "                                                    ... \n",
       "Seafood, Continental, North Indian, South Indian       1\n",
       "Cafe, Beverages, Fast Food, Street Food                1\n",
       "Biryani, North Indian, Rolls                           1\n",
       "North Indian, South Indian, Street Food, Chinese       1\n",
       "Asian, Continental, Healthy Food                       1\n",
       "Name: cuisines, Length: 2487, dtype: int64"
      ]
     },
     "execution_count": 15,
     "metadata": {},
     "output_type": "execute_result"
    }
   ],
   "source": [
    "df1['cuisines'].value_counts()"
   ]
  },
  {
   "cell_type": "code",
   "execution_count": 16,
   "metadata": {},
   "outputs": [
    {
     "data": {
      "text/plain": [
       "Quick Bites                  14981\n",
       "Casual Dining                 9859\n",
       "Cafe                          3487\n",
       "Dessert Parlor                1923\n",
       "Delivery                      1775\n",
       "                             ...  \n",
       "Bakery, Food Court               2\n",
       "Dessert Parlor, Kiosk            2\n",
       "Bakery, Beverage Shop            2\n",
       "Food Court, Beverage Shop        2\n",
       "Quick Bites, Kiosk               1\n",
       "Name: rest_type, Length: 87, dtype: int64"
      ]
     },
     "execution_count": 16,
     "metadata": {},
     "output_type": "execute_result"
    }
   ],
   "source": [
    "df1['rest_type'].value_counts()"
   ]
  },
  {
   "cell_type": "markdown",
   "metadata": {},
   "source": [
    "# **Visualization**"
   ]
  },
  {
   "cell_type": "markdown",
   "metadata": {},
   "source": [
    "**Top 10 most popular restaurant types**"
   ]
  },
  {
   "cell_type": "code",
   "execution_count": 17,
   "metadata": {
    "execution": {
     "iopub.execute_input": "2021-12-16T15:56:04.618163Z",
     "iopub.status.busy": "2021-12-16T15:56:04.61794Z",
     "iopub.status.idle": "2021-12-16T15:56:04.885345Z",
     "shell.execute_reply": "2021-12-16T15:56:04.88448Z",
     "shell.execute_reply.started": "2021-12-16T15:56:04.618134Z"
    }
   },
   "outputs": [
    {
     "name": "stderr",
     "output_type": "stream",
     "text": [
      "C:\\Users\\vaishnavi\\anaconda3\\lib\\site-packages\\seaborn\\_decorators.py:36: FutureWarning: Pass the following variable as a keyword arg: x. From version 0.12, the only valid positional argument will be `data`, and passing other arguments without an explicit keyword will result in an error or misinterpretation.\n",
      "  warnings.warn(\n"
     ]
    },
    {
     "data": {
      "image/png": "[encoded data removed]",
      "text/plain": [
       "<Figure size 864x504 with 1 Axes>"
      ]
     },
     "metadata": {
      "needs_background": "light"
     },
     "output_type": "display_data"
    }
   ],
   "source": [
    "plt.figure(figsize=(12,7))\n",
    "sns.countplot(df1['location'],order=df1['location'].value_counts()[:20].index,palette='deep')\n",
    "plt.xticks(rotation=90)\n",
    "plt.show()"
   ]
  },
  {
   "cell_type": "markdown",
   "metadata": {},
   "source": [
    "**Proportion of Restaurants that provide online service**"
   ]
  },
  {
   "cell_type": "code",
   "execution_count": 18,
   "metadata": {
    "execution": {
     "iopub.execute_input": "2021-12-16T15:56:04.888009Z",
     "iopub.status.busy": "2021-12-16T15:56:04.887837Z",
     "iopub.status.idle": "2021-12-16T15:56:04.982502Z",
     "shell.execute_reply": "2021-12-16T15:56:04.981882Z",
     "shell.execute_reply.started": "2021-12-16T15:56:04.887987Z"
    }
   },
   "outputs": [
    {
     "data": {
      "text/plain": [
       "<matplotlib.patches.Circle at 0x19cc473dd00>"
      ]
     },
     "execution_count": 18,
     "metadata": {},
     "output_type": "execute_result"
    },
    {
     "data": {
      "image/png": "[encoded data removed]",
      "text/plain": [
       "<Figure size 432x288 with 1 Axes>"
      ]
     },
     "metadata": {},
     "output_type": "display_data"
    }
   ],
   "source": [
    "df1.online_order.value_counts().plot(kind='pie')\n",
    "w_circle=plt.Circle((0,0),0.7,color='white')\n",
    "p=plt.gcf()\n",
    "p.gca().add_artist(w_circle)"
   ]
  },
  {
   "cell_type": "markdown",
   "metadata": {},
   "source": [
    "**Proportion of restaurants that allow booking tables**"
   ]
  },
  {
   "cell_type": "code",
   "execution_count": 19,
   "metadata": {
    "execution": {
     "iopub.execute_input": "2021-12-16T15:56:04.984451Z",
     "iopub.status.busy": "2021-12-16T15:56:04.983637Z",
     "iopub.status.idle": "2021-12-16T15:56:05.076678Z",
     "shell.execute_reply": "2021-12-16T15:56:05.075972Z",
     "shell.execute_reply.started": "2021-12-16T15:56:04.984418Z"
    }
   },
   "outputs": [
    {
     "data": {
      "text/plain": [
       "<AxesSubplot:>"
      ]
     },
     "execution_count": 19,
     "metadata": {},
     "output_type": "execute_result"
    },
    {
     "data": {
      "image/png": "[encoded data removed]",
      "text/plain": [
       "<Figure size 432x288 with 1 Axes>"
      ]
     },
     "metadata": {
      "needs_background": "light"
     },
     "output_type": "display_data"
    }
   ],
   "source": [
    "df1['book_table'].value_counts().plot(kind='bar')"
   ]
  },
  {
   "cell_type": "markdown",
   "metadata": {},
   "source": [
    "**Most popular restaurant chains**"
   ]
  },
  {
   "cell_type": "code",
   "execution_count": 20,
   "metadata": {
    "execution": {
     "iopub.execute_input": "2021-12-16T15:56:05.077923Z",
     "iopub.status.busy": "2021-12-16T15:56:05.077743Z",
     "iopub.status.idle": "2021-12-16T15:56:05.272374Z",
     "shell.execute_reply": "2021-12-16T15:56:05.271446Z",
     "shell.execute_reply.started": "2021-12-16T15:56:05.0779Z"
    }
   },
   "outputs": [
    {
     "data": {
      "text/plain": [
       "Text(0.5, 1.0, 'Top 10 Chain Restaurants')"
      ]
     },
     "execution_count": 20,
     "metadata": {},
     "output_type": "execute_result"
    },
    {
     "data": {
      "image/png": "[encoded data removed]",
      "text/plain": [
       "<Figure size 432x288 with 1 Axes>"
      ]
     },
     "metadata": {
      "needs_background": "light"
     },
     "output_type": "display_data"
    }
   ],
   "source": [
    "ax=df1.name.value_counts()[:10].plot(kind='bar')\n",
    "plt.xlabel(\"Restaurant Name\")\n",
    "plt.ylabel(\"No. of branches\")\n",
    "plt.title(\"Top 10 Chain Restaurants\")"
   ]
  },
  {
   "cell_type": "markdown",
   "metadata": {},
   "source": [
    "**Impact of Online Ordering on Ratings**\n",
    "\n",
    "It can be seen from the chart below that restaurants that allow ordering online tend to have higher ratings"
   ]
  },
  {
   "cell_type": "code",
   "execution_count": 21,
   "metadata": {
    "execution": {
     "iopub.execute_input": "2021-12-16T15:56:05.274038Z",
     "iopub.status.busy": "2021-12-16T15:56:05.273736Z",
     "iopub.status.idle": "2021-12-16T15:56:05.863854Z",
     "shell.execute_reply": "2021-12-16T15:56:05.863128Z",
     "shell.execute_reply.started": "2021-12-16T15:56:05.273998Z"
    }
   },
   "outputs": [
    {
     "data": {
      "text/plain": [
       "<AxesSubplot:xlabel='rating'>"
      ]
     },
     "execution_count": 21,
     "metadata": {},
     "output_type": "execute_result"
    },
    {
     "data": {
      "image/png": "[encoded data removed]",
      "text/plain": [
       "<Figure size 432x288 with 1 Axes>"
      ]
     },
     "metadata": {},
     "output_type": "display_data"
    }
   ],
   "source": [
    "sns.set_style('white')\n",
    "y=pd.crosstab(df1.rating,df1.online_order)\n",
    "y.plot(kind='bar',stacked=True)"
   ]
  },
  {
   "cell_type": "markdown",
   "metadata": {},
   "source": [
    "**Impact of Table Booking on Ratings**\n",
    "\n",
    "It can be seen from the chart below that restaurants that allow table bookings tend to have higher ratings."
   ]
  },
  {
   "cell_type": "code",
   "execution_count": 22,
   "metadata": {
    "execution": {
     "iopub.execute_input": "2021-12-16T15:56:05.865246Z",
     "iopub.status.busy": "2021-12-16T15:56:05.865004Z",
     "iopub.status.idle": "2021-12-16T15:56:06.65639Z",
     "shell.execute_reply": "2021-12-16T15:56:06.655525Z",
     "shell.execute_reply.started": "2021-12-16T15:56:05.865197Z"
    }
   },
   "outputs": [
    {
     "data": {
      "text/plain": [
       "<AxesSubplot:xlabel='rating'>"
      ]
     },
     "execution_count": 22,
     "metadata": {},
     "output_type": "execute_result"
    },
    {
     "data": {
      "image/png": "[encoded data removed]",
      "text/plain": [
       "<Figure size 432x288 with 1 Axes>"
      ]
     },
     "metadata": {},
     "output_type": "display_data"
    }
   ],
   "source": [
    "sns.set_style('white')\n",
    "y=pd.crosstab(df1.rating,df1.book_table)\n",
    "y.plot(kind='bar',stacked=True)"
   ]
  },
  {
   "cell_type": "markdown",
   "metadata": {},
   "source": [
    "**Top 10 retaurant locations**"
   ]
  },
  {
   "cell_type": "code",
   "execution_count": 23,
   "metadata": {
    "execution": {
     "iopub.execute_input": "2021-12-16T15:56:06.657596Z",
     "iopub.status.busy": "2021-12-16T15:56:06.657409Z",
     "iopub.status.idle": "2021-12-16T15:56:06.890662Z",
     "shell.execute_reply": "2021-12-16T15:56:06.889712Z",
     "shell.execute_reply.started": "2021-12-16T15:56:06.657573Z"
    }
   },
   "outputs": [
    {
     "data": {
      "image/png": "[encoded data removed]",
      "text/plain": [
       "<Figure size 432x288 with 1 Axes>"
      ]
     },
     "metadata": {},
     "output_type": "display_data"
    }
   ],
   "source": [
    "sns.set_style('darkgrid')\n",
    "ch=df1['location'].value_counts()[:10]\n",
    "sns.barplot(x=ch,y=ch.index,palette='viridis')\n",
    "plt.xlabel('Number of Outlets')\n",
    "plt.ylabel('Location')\n",
    "plt.show()"
   ]
  },
  {
   "cell_type": "markdown",
   "metadata": {},
   "source": [
    "## **Conclusion**\n",
    "<ol>\n",
    "    <li>Many orders are placed from BTM.</li>\n",
    "    <li>Most of them prefer ordering online.</li>\n",
    "    <li>North Indian Cuisines are ordered more often.</li>\n",
    "<li>The rating of a restuarant is mainly based on online orders.</li>\n",
    "    <li>Cafe Coffee Day has more branches in Bangalore.</li>\n",
    "<li>Quick Bites are the most ordered restuarant types.</li>\n",
    "</ol>"
   ]
  },
  {
   "cell_type": "markdown",
   "metadata": {},
   "source": [
    "# **Predictive Models**\n",
    "\n",
    "We now proceed to build a model that can predict ratings for new restaurants on the market to enable informed decision making by the stakeholders. The first step for this is to encode the columns containing string types into some sort of code."
   ]
  },
  {
   "cell_type": "code",
   "execution_count": 24,
   "metadata": {
    "execution": {
     "iopub.execute_input": "2021-12-16T15:56:06.8918Z",
     "iopub.status.busy": "2021-12-16T15:56:06.891629Z",
     "iopub.status.idle": "2021-12-16T15:56:06.933496Z",
     "shell.execute_reply": "2021-12-16T15:56:06.932068Z",
     "shell.execute_reply.started": "2021-12-16T15:56:06.891779Z"
    }
   },
   "outputs": [],
   "source": [
    "def Encode(df1):\n",
    "    for column in df1.columns[~df1.columns.isin(['rating', 'cost', 'votes'])]:\n",
    "        df1[column] = df1[column].factorize()[0]\n",
    "    return df1\n",
    "\n",
    "encodedZomato = Encode(df1.copy())"
   ]
  },
  {
   "cell_type": "code",
   "execution_count": 25,
   "metadata": {},
   "outputs": [
    {
     "data": {
      "text/plain": [
       "0"
      ]
     },
     "execution_count": 25,
     "metadata": {},
     "output_type": "execute_result"
    }
   ],
   "source": [
    "encodedZomato['rating'].fillna(encodedZomato['rating'].mean(), inplace = True)\n",
    "encodedZomato['rating'].isnull().sum()"
   ]
  },
  {
   "cell_type": "code",
   "execution_count": 26,
   "metadata": {},
   "outputs": [
    {
     "data": {
      "text/plain": [
       "name            0\n",
       "online_order    0\n",
       "book_table      0\n",
       "rating          0\n",
       "votes           0\n",
       "location        0\n",
       "rest_type       0\n",
       "cuisines        0\n",
       "cost            0\n",
       "type            0\n",
       "city            0\n",
       "dtype: int64"
      ]
     },
     "execution_count": 26,
     "metadata": {},
     "output_type": "execute_result"
    }
   ],
   "source": [
    "encodedZomato.isna().sum()"
   ]
  },
  {
   "cell_type": "markdown",
   "metadata": {},
   "source": [
    "Next we try to plot a heatmap to get the correlation between the various available variables"
   ]
  },
  {
   "cell_type": "code",
   "execution_count": 27,
   "metadata": {
    "execution": {
     "iopub.execute_input": "2021-12-16T15:56:06.936877Z",
     "iopub.status.busy": "2021-12-16T15:56:06.936102Z",
     "iopub.status.idle": "2021-12-16T15:56:07.973283Z",
     "shell.execute_reply": "2021-12-16T15:56:07.972594Z",
     "shell.execute_reply.started": "2021-12-16T15:56:06.936829Z"
    }
   },
   "outputs": [
    {
     "data": {
      "text/plain": [
       "<AxesSubplot:>"
      ]
     },
     "execution_count": 27,
     "metadata": {},
     "output_type": "execute_result"
    },
    {
     "data": {
      "image/png": "[encoded data removed]",
      "text/plain": [
       "<Figure size 1080x576 with 2 Axes>"
      ]
     },
     "metadata": {},
     "output_type": "display_data"
    }
   ],
   "source": [
    "#Get Correlation between different variables\n",
    "corr = encodedZomato.corr(method='kendall')\n",
    "plt.figure(figsize=(15,8))\n",
    "sns.heatmap(corr, annot=True)"
   ]
  },
  {
   "cell_type": "markdown",
   "metadata": {},
   "source": [
    "## **Splitting the Dataset**\n",
    "\n",
    "Next up is the very important step of the deciding the train-test split for the different models. In this, after careful consideration, a train-test split of 4:1 is chosen. Also, the dependent and independent variables are declared for the models. The target variable here is rating which is what we aim to predict for future restaurants."
   ]
  },
  {
   "cell_type": "code",
   "execution_count": 28,
   "metadata": {
    "execution": {
     "iopub.execute_input": "2021-12-16T15:56:07.974836Z",
     "iopub.status.busy": "2021-12-16T15:56:07.974604Z",
     "iopub.status.idle": "2021-12-16T15:56:07.995724Z",
     "shell.execute_reply": "2021-12-16T15:56:07.994732Z",
     "shell.execute_reply.started": "2021-12-16T15:56:07.974804Z"
    }
   },
   "outputs": [
    {
     "data": {
      "text/plain": [
       "((34757, 8), (34757,))"
      ]
     },
     "execution_count": 28,
     "metadata": {},
     "output_type": "execute_result"
    }
   ],
   "source": [
    "#Defining X and Y for model, Train-test split\n",
    "x = encodedZomato[[\"online_order\",\"book_table\",\"votes\",\"location\",\"rest_type\",\"cuisines\",\"cost\",\"type\"]]\n",
    "y = encodedZomato['rating']\n",
    "#Getting Test and Training Set, change test_size to change the train-test split\n",
    "x_train,x_test,y_train,y_test=train_test_split(x,y,test_size=.2,random_state=353)\n",
    "x_train.shape, y_train.shape"
   ]
  },
  {
   "cell_type": "markdown",
   "metadata": {},
   "source": [
    "## **Decison Tree Regressor**"
   ]
  },
  {
   "cell_type": "code",
   "execution_count": 29,
   "metadata": {
    "execution": {
     "iopub.execute_input": "2021-12-16T15:56:17.784999Z",
     "iopub.status.busy": "2021-12-16T15:56:17.784828Z",
     "iopub.status.idle": "2021-12-16T15:56:17.922357Z",
     "shell.execute_reply": "2021-12-16T15:56:17.921345Z",
     "shell.execute_reply.started": "2021-12-16T15:56:17.784977Z"
    }
   },
   "outputs": [
    {
     "data": {
      "text/plain": [
       "0.8631492295355592"
      ]
     },
     "execution_count": 29,
     "metadata": {},
     "output_type": "execute_result"
    }
   ],
   "source": [
    "#DTree Regression\n",
    "from sklearn.tree import DecisionTreeRegressor\n",
    "DTree=DecisionTreeRegressor(min_samples_leaf=.00001)\n",
    "DTree.fit(x_train,y_train)\n",
    "y_predict=DTree.predict(x_test)\n",
    "r2_score(y_test,y_predict)"
   ]
  },
  {
   "cell_type": "markdown",
   "metadata": {},
   "source": [
    "## **Linear Regressor**"
   ]
  },
  {
   "cell_type": "code",
   "execution_count": 30,
   "metadata": {
    "execution": {
     "iopub.execute_input": "2021-12-16T15:56:17.923922Z",
     "iopub.status.busy": "2021-12-16T15:56:17.923696Z",
     "iopub.status.idle": "2021-12-16T15:56:17.950188Z",
     "shell.execute_reply": "2021-12-16T15:56:17.949644Z",
     "shell.execute_reply.started": "2021-12-16T15:56:17.923899Z"
    }
   },
   "outputs": [
    {
     "data": {
      "text/plain": [
       "0.2826945869899192"
      ]
     },
     "execution_count": 30,
     "metadata": {},
     "output_type": "execute_result"
    }
   ],
   "source": [
    "#Some LinReg Model\n",
    "reg=LinearRegression()\n",
    "reg.fit(x_train,y_train)\n",
    "y_pred=reg.predict(x_test)\n",
    "r2_score(y_test,y_pred)"
   ]
  },
  {
   "cell_type": "markdown",
   "metadata": {},
   "source": [
    "## **Gradient Boosting Regressor**\n",
    "\n",
    "GB builds an additive model in a forward stage-wise fashion; it allows for the optimization of arbitrary differentiable loss functions. In each stage a regression tree is fit on the negative gradient of the given loss function."
   ]
  },
  {
   "cell_type": "code",
   "execution_count": 31,
   "metadata": {
    "execution": {
     "iopub.execute_input": "2021-12-16T15:56:17.951761Z",
     "iopub.status.busy": "2021-12-16T15:56:17.951411Z",
     "iopub.status.idle": "2021-12-16T15:56:20.845785Z",
     "shell.execute_reply": "2021-12-16T15:56:20.844735Z",
     "shell.execute_reply.started": "2021-12-16T15:56:17.951728Z"
    }
   },
   "outputs": [
    {
     "data": {
      "text/plain": [
       "0.5298212012255903"
      ]
     },
     "execution_count": 31,
     "metadata": {},
     "output_type": "execute_result"
    }
   ],
   "source": [
    "from sklearn.ensemble import GradientBoostingRegressor\n",
    "gbr = GradientBoostingRegressor()\n",
    "gbr.fit(x_train, y_train)\n",
    "y_predict=gbr.predict(x_test)\n",
    "r2_score(y_test,y_predict)"
   ]
  },
  {
   "cell_type": "markdown",
   "metadata": {},
   "source": [
    "## **XGBoost Regressor**\n",
    "\n",
    "XGBoost is a decision-tree-based ensemble Machine Learning algorithm that uses a gradient boosting framework. In prediction problems involving unstructured data (images, text, etc.) artificial neural networks tend to outperform all other algorithms or frameworks. However, when it comes to small-to-medium structured/tabular data, decision tree based algorithms are considered best-in-class right now."
   ]
  },
  {
   "cell_type": "code",
   "execution_count": 32,
   "metadata": {
    "execution": {
     "iopub.execute_input": "2021-12-16T15:56:20.847321Z",
     "iopub.status.busy": "2021-12-16T15:56:20.847052Z",
     "iopub.status.idle": "2021-12-16T15:56:29.878666Z",
     "shell.execute_reply": "2021-12-16T15:56:29.877902Z",
     "shell.execute_reply.started": "2021-12-16T15:56:20.847288Z"
    }
   },
   "outputs": [
    {
     "name": "stdout",
     "output_type": "stream",
     "text": [
      "Requirement already satisfied: xgboost in c:\\users\\vaishnavi\\anaconda3\\lib\\site-packages (1.5.1)\n",
      "Requirement already satisfied: scipy in c:\\users\\vaishnavi\\anaconda3\\lib\\site-packages (from xgboost) (1.6.2)\n",
      "Requirement already satisfied: numpy in c:\\users\\vaishnavi\\anaconda3\\lib\\site-packages (from xgboost) (1.20.1)\n"
     ]
    },
    {
     "data": {
      "text/plain": [
       "0.9385565447703283"
      ]
     },
     "execution_count": 32,
     "metadata": {},
     "output_type": "execute_result"
    }
   ],
   "source": [
    "!pip install xgboost\n",
    "from xgboost import XGBRegressor\n",
    "\n",
    "xgb = XGBRegressor(booster = 'gbtree', learning_rate = 0.1, max_depth = 15, n_estimators = 200)\n",
    "xgb.fit(x_train, y_train)\n",
    "y_predict=xgb.predict(x_test)\n",
    "\n",
    "r2_score(y_test,y_predict)"
   ]
  },
  {
   "cell_type": "markdown",
   "metadata": {},
   "source": [
    "## **Random Forest Regressor**\n",
    "\n",
    "A random forest is a meta estimator that fits a number of classifying decision trees on various sub-samples of the dataset and uses averaging to improve the predictive accuracy and control over-fitting."
   ]
  },
  {
   "cell_type": "code",
   "execution_count": 33,
   "metadata": {
    "execution": {
     "iopub.execute_input": "2021-12-16T15:56:29.882974Z",
     "iopub.status.busy": "2021-12-16T15:56:29.882326Z",
     "iopub.status.idle": "2021-12-16T15:56:47.243968Z",
     "shell.execute_reply": "2021-12-16T15:56:47.243377Z",
     "shell.execute_reply.started": "2021-12-16T15:56:29.882946Z"
    }
   },
   "outputs": [
    {
     "data": {
      "text/plain": [
       "0.9227603232783242"
      ]
     },
     "execution_count": 33,
     "metadata": {},
     "output_type": "execute_result"
    }
   ],
   "source": [
    "from sklearn.ensemble import RandomForestRegressor\n",
    "rf=RandomForestRegressor(n_estimators=200,random_state=50,min_samples_leaf=.00001)\n",
    "rf.fit(x_train,y_train)\n",
    "y_pred=rf.predict(x_test)\n",
    "r2_score(y_test,y_pred)"
   ]
  },
  {
   "cell_type": "markdown",
   "metadata": {},
   "source": [
    "Now let us compare and contrast the performance of each of our models by arranging their r-squared scores in a tabulated format"
   ]
  },
  {
   "cell_type": "code",
   "execution_count": 34,
   "metadata": {
    "execution": {
     "iopub.execute_input": "2021-12-16T15:56:47.247731Z",
     "iopub.status.busy": "2021-12-16T15:56:47.247359Z",
     "iopub.status.idle": "2021-12-16T15:56:48.168199Z",
     "shell.execute_reply": "2021-12-16T15:56:48.167706Z",
     "shell.execute_reply.started": "2021-12-16T15:56:47.247699Z"
    }
   },
   "outputs": [
    {
     "data": {
      "text/html": [
       "<div>\n",
       "<style scoped>\n",
       "    .dataframe tbody tr th:only-of-type {\n",
       "        vertical-align: middle;\n",
       "    }\n",
       "\n",
       "    .dataframe tbody tr th {\n",
       "        vertical-align: top;\n",
       "    }\n",
       "\n",
       "    .dataframe thead th {\n",
       "        text-align: right;\n",
       "    }\n",
       "</style>\n",
       "<table border=\"1\" class=\"dataframe\">\n",
       "  <thead>\n",
       "    <tr style=\"text-align: right;\">\n",
       "      <th></th>\n",
       "      <th>Model</th>\n",
       "      <th>Score</th>\n",
       "    </tr>\n",
       "  </thead>\n",
       "  <tbody>\n",
       "    <tr>\n",
       "      <th>4</th>\n",
       "      <td>XgBoost</td>\n",
       "      <td>0.938557</td>\n",
       "    </tr>\n",
       "    <tr>\n",
       "      <th>2</th>\n",
       "      <td>Random Forest</td>\n",
       "      <td>0.922760</td>\n",
       "    </tr>\n",
       "    <tr>\n",
       "      <th>1</th>\n",
       "      <td>Decision Tree</td>\n",
       "      <td>0.863149</td>\n",
       "    </tr>\n",
       "    <tr>\n",
       "      <th>3</th>\n",
       "      <td>Gradient Boost</td>\n",
       "      <td>0.529821</td>\n",
       "    </tr>\n",
       "    <tr>\n",
       "      <th>0</th>\n",
       "      <td>Linear Regression</td>\n",
       "      <td>0.282695</td>\n",
       "    </tr>\n",
       "  </tbody>\n",
       "</table>\n",
       "</div>"
      ],
      "text/plain": [
       "               Model     Score\n",
       "4            XgBoost  0.938557\n",
       "2      Random Forest  0.922760\n",
       "1      Decision Tree  0.863149\n",
       "3     Gradient Boost  0.529821\n",
       "0  Linear Regression  0.282695"
      ]
     },
     "execution_count": 34,
     "metadata": {},
     "output_type": "execute_result"
    }
   ],
   "source": [
    "models = pd.DataFrame({\n",
    "    'Model' : ['Linear Regression', 'Decision Tree', 'Random Forest', 'Gradient Boost', 'XgBoost'],\n",
    "    'Score' : [reg.score(x_test, y_test), DTree.score(x_test, y_test), rf.score(x_test, y_test),\n",
    "               gbr.score(x_test, y_test), xgb.score(x_test, y_test)]})\n",
    "\n",
    "\n",
    "models.sort_values(by = 'Score', ascending = False)"
   ]
  },
  {
   "cell_type": "markdown",
   "metadata": {},
   "source": [
    "# **Inferences**\n",
    "\n",
    "It is clearly visible that the XGBoost regressor works the best with our dataset, which means that we'll be using this model to predict the ratings of the our future dataset."
   ]
  },
  {
   "cell_type": "markdown",
   "metadata": {},
   "source": [
    "# **Conclusions**\n",
    "\n",
    "We have successfully trained and built multiple models on the dataset. We also found that the XGBoost regressor works incredibly well for this data. This analysis shows that once the model has been trained and tested on the data, we can actually predict the ratings for new restaurants as well with the independent variables being available to us."
   ]
  }
 ],
 "metadata": {
  "kernelspec": {
   "display_name": "Python 3",
   "language": "python",
   "name": "python3"
  },
  "language_info": {
   "codemirror_mode": {
    "name": "ipython",
    "version": 3
   },
   "file_extension": ".py",
   "mimetype": "text/x-python",
   "name": "python",
   "nbconvert_exporter": "python",
   "pygments_lexer": "ipython3",
   "version": "3.8.8"
  }
 },
 "nbformat": 4,
 "nbformat_minor": 4
}
